{
 "cells": [
  {
   "cell_type": "code",
   "execution_count": 1,
   "metadata": {
    "collapsed": true
   },
   "outputs": [],
   "source": [
    "import tensorflow as tf\n",
    "import numpy as np\n",
    "import pandas as pd"
   ]
  },
  {
   "cell_type": "code",
   "execution_count": 40,
   "metadata": {
    "collapsed": true
   },
   "outputs": [],
   "source": [
    "x = tf.placeholder(tf.float32, shape=(None,2))\n",
    "y = tf.placeholder(tf.float32, shape =(None,1))"
   ]
  },
  {
   "cell_type": "code",
   "execution_count": 41,
   "metadata": {},
   "outputs": [],
   "source": [
    "inputt = np.array([[0,0],[0,1], [1,0], [1,1]], dtype=np.float32)"
   ]
  },
  {
   "cell_type": "code",
   "execution_count": 117,
   "metadata": {
    "collapsed": true
   },
   "outputs": [],
   "source": [
    "outputt = np.array([[1], [0], [1], [1]], dtype=np.float32)"
   ]
  },
  {
   "cell_type": "code",
   "execution_count": 99,
   "metadata": {},
   "outputs": [],
   "source": [
    "w0 = tf.Variable(tf.random_uniform(minval=-1, maxval=1, shape = [2,2]))\n",
    "b0 = tf.Variable(tf.constant(0.1, shape=(1,2)), name='b0')\n",
    "w1 = tf.Variable(tf.random_uniform(minval=-1, maxval=1, shape = [2,2]))\n",
    "b1 = tf.Variable(tf.constant(0.1, shape=(1,2)), name='b1')\n",
    "w2 = tf.Variable(tf.random_uniform(minval=-1, maxval=1, shape = [2,1]))\n",
    "b2 = tf.Variable(tf.constant(0.1, shape=(1,1)), name='b2')\n",
    "\n",
    "lr = tf.placeholder(tf.float32, shape=(), name='learning_rate')\n"
   ]
  },
  {
   "cell_type": "code",
   "execution_count": 100,
   "metadata": {},
   "outputs": [],
   "source": [
    "S0 = tf.add(tf.matmul(x, w0), b0)\n",
    "O1 = tf.nn.tanh(S0)\n",
    "S1 = tf.add(tf.matmul(O1, w1), b1)\n",
    "O2 = tf.nn.sigmoid(S1)\n",
    "Ou = tf.add(tf.matmul(O2, w2), b2)"
   ]
  },
  {
   "cell_type": "code",
   "execution_count": 101,
   "metadata": {},
   "outputs": [],
   "source": [
    "error = (y-Ou)**2"
   ]
  },
  {
   "cell_type": "code",
   "execution_count": 102,
   "metadata": {},
   "outputs": [],
   "source": [
    "optimizer = tf.train.GradientDescentOptimizer(learning_rate=lr)\n",
    "train = optimizer.minimize(error)"
   ]
  },
  {
   "cell_type": "code",
   "execution_count": 103,
   "metadata": {},
   "outputs": [],
   "source": [
    "#to initialize the variables\n",
    "init = tf.global_variables_initializer()\n",
    "sess = tf.InteractiveSession()\n",
    "\n",
    "sess.run(init)"
   ]
  },
  {
   "cell_type": "code",
   "execution_count": 104,
   "metadata": {},
   "outputs": [],
   "source": [
    "for i in range(0,1000):\n",
    "    for ind in range(0,inputt.shape[0]):\n",
    "        sess.run(train, feed_dict={x:inputt[ind,None], y:outputt[ind, None], lr:0.1})"
   ]
  },
  {
   "cell_type": "code",
   "execution_count": 125,
   "metadata": {},
   "outputs": [
    {
     "name": "stdout",
     "output_type": "stream",
     "text": [
      "[[ 0.0013836]]\n",
      "[[ 0.99565518]]\n",
      "[[ 0.97985768]]\n",
      "[[ 1.01236999]]\n"
     ]
    }
   ],
   "source": [
    "for index in range(0, inputt.shape[0]):\n",
    "    print(sess.run(Ou, feed_dict={x:inputt[index,None]}))"
   ]
  },
  {
   "cell_type": "code",
   "execution_count": null,
   "metadata": {
    "collapsed": true
   },
   "outputs": [],
   "source": []
  }
 ],
 "metadata": {
  "kernelspec": {
   "display_name": "Python 3",
   "language": "python",
   "name": "python3"
  },
  "language_info": {
   "codemirror_mode": {
    "name": "ipython",
    "version": 3
   },
   "file_extension": ".py",
   "mimetype": "text/x-python",
   "name": "python",
   "nbconvert_exporter": "python",
   "pygments_lexer": "ipython3",
   "version": "3.6.3"
  }
 },
 "nbformat": 4,
 "nbformat_minor": 2
}
