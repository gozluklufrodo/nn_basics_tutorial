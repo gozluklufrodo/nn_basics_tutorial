{
 "cells": [
  {
   "cell_type": "code",
   "execution_count": 1,
   "metadata": {},
   "outputs": [],
   "source": [
    "import numpy as np\n",
    "import matplotlib.pyplot as plt"
   ]
  },
  {
   "cell_type": "code",
   "execution_count": 2,
   "metadata": {},
   "outputs": [],
   "source": [
    "# basic logistic function\n",
    "# this function return output between 0 and 1\n",
    "\n",
    "def sigmoid(y):\n",
    "    return 1/(1+np.exp(-y))"
   ]
  },
  {
   "cell_type": "code",
   "execution_count": 3,
   "metadata": {},
   "outputs": [],
   "source": [
    "# learning_rate --> this is the coefficent that rates how much we will change the weights\n",
    "\n",
    "theta = 0.8"
   ]
  },
  {
   "cell_type": "code",
   "execution_count": 4,
   "metadata": {},
   "outputs": [],
   "source": [
    "# Basic XOR problem is solved here --> \n",
    "# input are : [1,1], [1,0], [0,1], [0,0]\n",
    "# outputs are : [1, 0, 0, 0]\n",
    "\n",
    "X = np.array([[1,1, 1], [1,0, 1], [0,1, 1], [0,0, 1]]) # \n",
    "Y = np.array([[1, 0, 0, 0]]).T"
   ]
  },
  {
   "cell_type": "code",
   "execution_count": 5,
   "metadata": {},
   "outputs": [],
   "source": [
    "# Structure of ANN\n",
    "\n",
    "# simple one layer neural network is modeled. Sigmoid function is used in the output layer\n",
    "\n",
    "W = np.zeros([3,1]) # weight vectors has 3,1 shape, because bias is also added "
   ]
  },
  {
   "cell_type": "code",
   "execution_count": 7,
   "metadata": {},
   "outputs": [],
   "source": [
    "# Training process\n",
    "# Stochastic gradient descent is applied\n",
    "# as cost function mean square error is used\n",
    "\n",
    "for i in range(1,10000):\n",
    "    for t in range(4):\n",
    "        Z = np.dot(X[t], W)\n",
    "        y_hat = sigmoid(Z)\n",
    "        \n",
    "        error = y_hat - Y[t] \n",
    "       \n",
    "        # mean square error\n",
    "        J = ((y_hat - Y[t])**2) / 2 \n",
    "        \n",
    "        W = W - (X[t]* theta * error*y_hat*(1-y_hat)).reshape(-1, 1)"
   ]
  },
  {
   "cell_type": "code",
   "execution_count": 8,
   "metadata": {},
   "outputs": [],
   "source": [
    "result = sigmoid(np.dot(X,W))"
   ]
  },
  {
   "cell_type": "code",
   "execution_count": 9,
   "metadata": {},
   "outputs": [
    {
     "data": {
      "text/plain": [
       "<matplotlib.collections.PathCollection at 0x7f4a400e7b90>"
      ]
     },
     "execution_count": 9,
     "metadata": {},
     "output_type": "execute_result"
    },
    {
     "data": {
      "image/png": "[encoded data removed]",
      "text/plain": [
       "<Figure size 432x288 with 1 Axes>"
      ]
     },
     "metadata": {
      "needs_background": "light"
     },
     "output_type": "display_data"
    }
   ],
   "source": [
    "plt.scatter([1,2,3,4],result)"
   ]
  },
  {
   "cell_type": "code",
   "execution_count": null,
   "metadata": {},
   "outputs": [],
   "source": []
  }
 ],
 "metadata": {
  "kernelspec": {
   "display_name": "Python 3",
   "language": "python",
   "name": "python3"
  },
  "language_info": {
   "codemirror_mode": {
    "name": "ipython",
    "version": 3
   },
   "file_extension": ".py",
   "mimetype": "text/x-python",
   "name": "python",
   "nbconvert_exporter": "python",
   "pygments_lexer": "ipython3",
   "version": "3.7.6"
  }
 },
 "nbformat": 4,
 "nbformat_minor": 4
}
